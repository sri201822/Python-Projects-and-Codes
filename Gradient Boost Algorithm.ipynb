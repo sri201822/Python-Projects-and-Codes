{
 "cells": [
  {
   "cell_type": "markdown",
   "metadata": {},
   "source": [
    "# Gradient Boosting Regression"
   ]
  },
  {
   "cell_type": "code",
   "execution_count": 3,
   "metadata": {},
   "outputs": [
    {
     "name": "stdout",
     "output_type": "stream",
     "text": [
      "\n",
      "========================================================\n",
      " Results from Random Search \n",
      "========================================================\n",
      "\n",
      " The best estimator across ALL searched params:\n",
      " GradientBoostingRegressor(alpha=0.9, criterion='friedman_mse', init=None,\n",
      "                          learning_rate=0.1278686199326965, loss='ls',\n",
      "                          max_depth=9, max_features=None, max_leaf_nodes=None,\n",
      "                          min_impurity_decrease=0.0, min_impurity_split=None,\n",
      "                          min_samples_leaf=1, min_samples_split=2,\n",
      "                          min_weight_fraction_leaf=0.0, n_estimators=306,\n",
      "                          n_iter_no_change=None, presort='auto',\n",
      "                          random_state=None, subsample=0.5711176695756343,\n",
      "                          tol=0.0001, validation_fraction=0.1, verbose=0,\n",
      "                          warm_start=False)\n",
      "\n",
      " The best score across ALL searched params:\n",
      " 0.8146068757607252\n",
      "\n",
      " The best parameters across ALL searched params:\n",
      " {'learning_rate': 0.1278686199326965, 'max_depth': 9, 'n_estimators': 306, 'subsample': 0.5711176695756343}\n",
      "\n",
      " ========================================================\n"
     ]
    }
   ],
   "source": [
    "def regressor():\n",
    "    import warnings\n",
    "    warnings.filterwarnings(\"ignore\")\n",
    "\n",
    "    # load libraries\n",
    "    from sklearn import datasets\n",
    "    from sklearn.model_selection import train_test_split\n",
    "    from sklearn.model_selection import RandomizedSearchCV\n",
    "    from sklearn.ensemble import GradientBoostingRegressor\n",
    "    from scipy.stats import uniform as sp_randFloat\n",
    "    from scipy.stats import randint as sp_randInt\n",
    "\n",
    "    # load the iris datasets\n",
    "    dataset = datasets.load_boston()\n",
    "    X = dataset.data; y = dataset.target\n",
    "    X_train, X_test, y_train, y_test = train_test_split(X, y, test_size=0.25)\n",
    "\n",
    "    model = GradientBoostingRegressor()\n",
    "    parameters = {'learning_rate': sp_randFloat(),\n",
    "                  'subsample'    : sp_randFloat(),\n",
    "                  'n_estimators' : sp_randInt(100, 1000),\n",
    "                  'max_depth'    : sp_randInt(4, 10)\n",
    "                 }\n",
    "\n",
    "    randm = RandomizedSearchCV(estimator=model, param_distributions = parameters,\n",
    "                               cv = 2, n_iter = 10, n_jobs=-1)\n",
    "    randm.fit(X_train, y_train)\n",
    "\n",
    "    # Results from Random Search\n",
    "    print(\"\\n========================================================\")\n",
    "    print(\" Results from Random Search \" )\n",
    "    print(\"========================================================\")\n",
    "    print(\"\\n The best estimator across ALL searched params:\\n\",\n",
    "          randm.best_estimator_)\n",
    "    print(\"\\n The best score across ALL searched params:\\n\",\n",
    "          randm.best_score_)\n",
    "    print(\"\\n The best parameters across ALL searched params:\\n\",\n",
    "          randm.best_params_)\n",
    "    print(\"\\n ========================================================\")\n",
    "regressor()"
   ]
  },
  {
   "cell_type": "markdown",
   "metadata": {},
   "source": [
    "# Gradient Boosting Classification"
   ]
  },
  {
   "cell_type": "code",
   "execution_count": 6,
   "metadata": {},
   "outputs": [
    {
     "name": "stdout",
     "output_type": "stream",
     "text": [
      "\n",
      "========================================================\n",
      " Results from Random Search \n",
      "========================================================\n",
      "\n",
      " The best estimator across ALL searched params:\n",
      " GradientBoostingClassifier(criterion='friedman_mse', init=None,\n",
      "                           learning_rate=0.1962279881103235, loss='deviance',\n",
      "                           max_depth=6, max_features=None, max_leaf_nodes=None,\n",
      "                           min_impurity_decrease=0.0, min_impurity_split=None,\n",
      "                           min_samples_leaf=1, min_samples_split=2,\n",
      "                           min_weight_fraction_leaf=0.0, n_estimators=224,\n",
      "                           n_iter_no_change=None, presort='auto',\n",
      "                           random_state=None, subsample=0.7372613151823798,\n",
      "                           tol=0.0001, validation_fraction=0.1, verbose=0,\n",
      "                           warm_start=False)\n",
      "\n",
      " The best score across ALL searched params:\n",
      " 0.9924812030075187\n",
      "\n",
      " The best parameters across ALL searched params:\n",
      " {'learning_rate': 0.1962279881103235, 'max_depth': 6, 'n_estimators': 224, 'subsample': 0.7372613151823798}\n",
      "\n",
      " ========================================================\n"
     ]
    }
   ],
   "source": [
    "def classifier():\n",
    "    import warnings\n",
    "    warnings.filterwarnings(\"ignore\")\n",
    "\n",
    "    # load libraries\n",
    "    from sklearn import datasets\n",
    "    from sklearn.model_selection import train_test_split\n",
    "    from sklearn.model_selection import RandomizedSearchCV\n",
    "    from sklearn.ensemble import GradientBoostingClassifier\n",
    "    from scipy.stats import uniform as sp_randFloat\n",
    "    from scipy.stats import randint as sp_randInt\n",
    "\n",
    "    # load the iris datasets\n",
    "    dataset = datasets.load_wine()\n",
    "    X = dataset.data; y = dataset.target\n",
    "    X_train, X_test, y_train, y_test = train_test_split(X, y, test_size=0.25)\n",
    "\n",
    "    model = GradientBoostingClassifier()\n",
    "    parameters = {'learning_rate': sp_randFloat(),\n",
    "                  'subsample'    : sp_randFloat(),\n",
    "                  'n_estimators' : sp_randInt(100, 1000),\n",
    "                  'max_depth'    : sp_randInt(4, 10)\n",
    "                 }\n",
    "\n",
    "    randm = RandomizedSearchCV(estimator=model, param_distributions = parameters,\n",
    "                               cv = 2, n_iter = 10, n_jobs=-1)\n",
    "    randm.fit(X_train, y_train)\n",
    "\n",
    "    # Results from Random Search\n",
    "    print(\"\\n========================================================\")\n",
    "    print(\" Results from Random Search \" )\n",
    "    print(\"========================================================\")\n",
    "    print(\"\\n The best estimator across ALL searched params:\\n\",\n",
    "          randm.best_estimator_)\n",
    "    print(\"\\n The best score across ALL searched params:\\n\",\n",
    "          randm.best_score_)\n",
    "    print(\"\\n The best parameters across ALL searched params:\\n\",\n",
    "          randm.best_params_)\n",
    "    print(\"\\n ========================================================\")\n",
    "\n",
    "classifier()"
   ]
  },
  {
   "cell_type": "code",
   "execution_count": null,
   "metadata": {},
   "outputs": [],
   "source": []
  }
 ],
 "metadata": {
  "kernelspec": {
   "display_name": "Python 3",
   "language": "python",
   "name": "python3"
  },
  "language_info": {
   "codemirror_mode": {
    "name": "ipython",
    "version": 3
   },
   "file_extension": ".py",
   "mimetype": "text/x-python",
   "name": "python",
   "nbconvert_exporter": "python",
   "pygments_lexer": "ipython3",
   "version": "3.7.4"
  }
 },
 "nbformat": 4,
 "nbformat_minor": 2
}
