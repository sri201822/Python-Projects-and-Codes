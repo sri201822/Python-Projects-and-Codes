{
 "cells": [
  {
   "cell_type": "code",
   "execution_count": 1,
   "metadata": {},
   "outputs": [
    {
     "name": "stdout",
     "output_type": "stream",
     "text": [
      "Requirement already satisfied: xgboost in c:\\users\\sidre\\anaconda3\\lib\\site-packages (0.90)\n",
      "Requirement already satisfied: scipy in c:\\users\\sidre\\anaconda3\\lib\\site-packages (from xgboost) (1.3.1)\n",
      "Requirement already satisfied: numpy in c:\\users\\sidre\\anaconda3\\lib\\site-packages (from xgboost) (1.16.5)\n"
     ]
    }
   ],
   "source": [
    "!pip install xgboost"
   ]
  },
  {
   "cell_type": "markdown",
   "metadata": {},
   "source": [
    "# Learning rate optimisation of XGBoost"
   ]
  },
  {
   "cell_type": "code",
   "execution_count": 2,
   "metadata": {},
   "outputs": [
    {
     "name": "stderr",
     "output_type": "stream",
     "text": [
      "C:\\Users\\sidre\\Anaconda3\\lib\\site-packages\\sklearn\\model_selection\\_search.py:814: DeprecationWarning: The default of the `iid` parameter will change from True to False in version 0.22 and will be removed in 0.24. This will change numeric results when test-set sizes are unequal.\n",
      "  DeprecationWarning)\n"
     ]
    },
    {
     "name": "stdout",
     "output_type": "stream",
     "text": [
      "Best: -0.106679 using {'learning_rate': 0.1, 'n_estimators': 500}\n",
      "-1.086571 (0.001214) with: {'learning_rate': 0.0001, 'n_estimators': 100}\n",
      "-1.074762 (0.002402) with: {'learning_rate': 0.0001, 'n_estimators': 200}\n",
      "-1.063157 (0.003574) with: {'learning_rate': 0.0001, 'n_estimators': 300}\n",
      "-1.051748 (0.004729) with: {'learning_rate': 0.0001, 'n_estimators': 400}\n",
      "-1.040528 (0.005867) with: {'learning_rate': 0.0001, 'n_estimators': 500}\n",
      "-0.987289 (0.011500) with: {'learning_rate': 0.001, 'n_estimators': 100}\n",
      "-0.892565 (0.021808) with: {'learning_rate': 0.001, 'n_estimators': 200}\n",
      "-0.809632 (0.030696) with: {'learning_rate': 0.001, 'n_estimators': 300}\n",
      "-0.737099 (0.038163) with: {'learning_rate': 0.001, 'n_estimators': 400}\n",
      "-0.673618 (0.043455) with: {'learning_rate': 0.001, 'n_estimators': 500}\n",
      "-0.450841 (0.064743) with: {'learning_rate': 0.01, 'n_estimators': 100}\n",
      "-0.252692 (0.094742) with: {'learning_rate': 0.01, 'n_estimators': 200}\n",
      "-0.183062 (0.112398) with: {'learning_rate': 0.01, 'n_estimators': 300}\n",
      "-0.152393 (0.117187) with: {'learning_rate': 0.01, 'n_estimators': 400}\n",
      "-0.137154 (0.119954) with: {'learning_rate': 0.01, 'n_estimators': 500}\n",
      "-0.111016 (0.113984) with: {'learning_rate': 0.1, 'n_estimators': 100}\n",
      "-0.106716 (0.111809) with: {'learning_rate': 0.1, 'n_estimators': 200}\n",
      "-0.106679 (0.111768) with: {'learning_rate': 0.1, 'n_estimators': 300}\n",
      "-0.106679 (0.111768) with: {'learning_rate': 0.1, 'n_estimators': 400}\n",
      "-0.106679 (0.111768) with: {'learning_rate': 0.1, 'n_estimators': 500}\n"
     ]
    }
   ],
   "source": [
    "def xgboost_classifier():\n",
    "    import warnings\n",
    "    warnings.filterwarnings(\"ignore\")\n",
    "\n",
    "    # load libraries\n",
    "    from sklearn import datasets\n",
    "    from sklearn.model_selection import train_test_split\n",
    "    from xgboost import XGBClassifier\n",
    "    from sklearn.model_selection import GridSearchCV\n",
    "    from sklearn.model_selection import StratifiedKFold\n",
    "    import matplotlib\n",
    "    matplotlib.use('Agg')\n",
    "    from matplotlib import pyplot\n",
    "    pyplot.style.use('ggplot')\n",
    "    import numpy\n",
    "\n",
    "    # load the iris datasets\n",
    "    dataset = datasets.load_wine()\n",
    "    X = dataset.data; y = dataset.target\n",
    "    X_train, X_test, y_train, y_test = train_test_split(X, y, test_size=0.25)\n",
    "\n",
    "    # grid search\n",
    "    model = XGBClassifier()\n",
    "    n_estimators = [100, 200, 300, 400, 500]\n",
    "    learning_rate = [0.0001, 0.001, 0.01, 0.1]\n",
    "    param_grid = dict(learning_rate=learning_rate, n_estimators=n_estimators)\n",
    "    kfold = StratifiedKFold(n_splits=10, shuffle=True, random_state=7)\n",
    "    grid_search = GridSearchCV(model, param_grid, scoring=\"neg_log_loss\", n_jobs=-1, cv=kfold)\n",
    "    grid_result = grid_search.fit(X, y)\n",
    "\n",
    "    # summarize results\n",
    "    print(\"Best: %f using %s\" % (grid_result.best_score_, grid_result.best_params_))\n",
    "    means = grid_result.cv_results_['mean_test_score']\n",
    "    stds = grid_result.cv_results_['std_test_score']\n",
    "    params = grid_result.cv_results_['params']\n",
    "\n",
    "    for mean, stdev, param in zip(means, stds, params):\n",
    "           print(\"%f (%f) with: %r\" % (mean, stdev, param))\n",
    "         # plot results\n",
    "    pyplot.subplots(figsize=(12,12))\n",
    "    scores = numpy.array(means).reshape(len(learning_rate), len(n_estimators))\n",
    "\n",
    "    for i, value in enumerate(learning_rate):\n",
    "        pyplot.plot(n_estimators, scores[i], label='learning_rate: ' + str(value))\n",
    "    pyplot.legend()\n",
    "    pyplot.xlabel('n_estimators')\n",
    "    pyplot.ylabel('Log Loss')\n",
    "    pyplot.show()\n",
    "    pyplot.savefig('n_estimators_vs_learning_rate.png')\n",
    "xgboost_classifier()"
   ]
  },
  {
   "cell_type": "markdown",
   "metadata": {},
   "source": [
    "# Optimise depth of trees in XGBoost classification"
   ]
  },
  {
   "cell_type": "code",
   "execution_count": 3,
   "metadata": {},
   "outputs": [
    {
     "name": "stdout",
     "output_type": "stream",
     "text": [
      "range(1, 11, 2)\n",
      "Fitting 10 folds for each of 5 candidates, totalling 50 fits\n"
     ]
    },
    {
     "name": "stderr",
     "output_type": "stream",
     "text": [
      "[Parallel(n_jobs=-1)]: Using backend LokyBackend with 8 concurrent workers.\n",
      "[Parallel(n_jobs=-1)]: Done  50 out of  50 | elapsed:    0.7s finished\n"
     ]
    },
    {
     "name": "stdout",
     "output_type": "stream",
     "text": [
      "\n",
      "Best: -0.075476 using {'max_depth': 1}\n",
      "\n",
      "-0.075476 (0.055948) with: {'max_depth': 1}\n",
      "-0.111016 (0.113984) with: {'max_depth': 3}\n",
      "-0.112276 (0.111533) with: {'max_depth': 5}\n",
      "-0.112276 (0.111533) with: {'max_depth': 7}\n",
      "-0.112276 (0.111533) with: {'max_depth': 9}\n"
     ]
    }
   ],
   "source": [
    "def xgboost_classifier2():\n",
    "    import warnings\n",
    "    warnings.filterwarnings(\"ignore\")\n",
    "\n",
    "    # load libraries\n",
    "    from sklearn import datasets\n",
    "    from sklearn.model_selection import train_test_split\n",
    "    from xgboost import XGBClassifier\n",
    "    from sklearn.model_selection import GridSearchCV\n",
    "    from sklearn.model_selection import StratifiedKFold\n",
    "    import matplotlib\n",
    "    matplotlib.use('Agg')\n",
    "    from matplotlib import pyplot\n",
    "\n",
    "    # load the iris datasets\n",
    "    dataset = datasets.load_wine()\n",
    "    X = dataset.data; y = dataset.target\n",
    "    X_train, X_test, y_train, y_test = train_test_split(X, y, test_size=0.25)\n",
    "\n",
    "    # grid search\n",
    "    model = XGBClassifier()\n",
    "    max_depth = range(1, 11, 2)\n",
    "    print(max_depth)\n",
    "    param_grid = dict(max_depth=max_depth)\n",
    "    kfold = StratifiedKFold(n_splits=10, shuffle=True, random_state=7)\n",
    "    grid_search = GridSearchCV(model, param_grid, scoring=\"neg_log_loss\", n_jobs=-1, cv=kfold, verbose=1)\n",
    "    grid_result = grid_search.fit(X, y)\n",
    "\n",
    "    # summarize results\n",
    "    print()\n",
    "    print(\"Best: %f using %s\" % (grid_result.best_score_, grid_result.best_params_))\n",
    "    means = grid_result.cv_results_['mean_test_score']\n",
    "    stds = grid_result.cv_results_['std_test_score']\n",
    "    params = grid_result.cv_results_['params']\n",
    "    print()\n",
    "\n",
    "    for mean, stdev, param in zip(means, stds, params):\n",
    "           print(\"%f (%f) with: %r\" % (mean, stdev, param))\n",
    "         # plot\n",
    "    pyplot.errorbar(max_depth, means, yerr=stds)\n",
    "    pyplot.title(\"XGBoost max_depth vs Log Loss\")\n",
    "    pyplot.xlabel('max_depth')\n",
    "    pyplot.ylabel('Log Loss')\n",
    "    pyplot.savefig('max_depth.png')\n",
    "xgboost_classifier2()"
   ]
  },
  {
   "cell_type": "code",
   "execution_count": null,
   "metadata": {},
   "outputs": [],
   "source": []
  }
 ],
 "metadata": {
  "kernelspec": {
   "display_name": "Python 3",
   "language": "python",
   "name": "python3"
  },
  "language_info": {
   "codemirror_mode": {
    "name": "ipython",
    "version": 3
   },
   "file_extension": ".py",
   "mimetype": "text/x-python",
   "name": "python",
   "nbconvert_exporter": "python",
   "pygments_lexer": "ipython3",
   "version": "3.7.4"
  }
 },
 "nbformat": 4,
 "nbformat_minor": 2
}
