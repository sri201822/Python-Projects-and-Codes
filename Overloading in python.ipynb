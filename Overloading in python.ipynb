{
 "cells": [
  {
   "cell_type": "code",
   "execution_count": 5,
   "metadata": {},
   "outputs": [],
   "source": [
    "registry = {}\n",
    "class MultiMethod(object):\n",
    "    def __init__(self, name):\n",
    "        self.name = name\n",
    "        self.typemap = {}\n",
    "    def __call__(self, *args):\n",
    "        types = tuple(arg.__class__ for arg in args)\n",
    "        function = self.typemap.get(types)\n",
    "        if function is None:\n",
    "            raise TypeError(\"no match\")\n",
    "        return function(*args)\n",
    "    def register(self, types, function):\n",
    "        self.typemap[types] = function\n",
    "def overload(*types):\n",
    "    def register(function):\n",
    "        name = function.__name__\n",
    "        mm = registry.get(name)\n",
    "        if mm is None:\n",
    "            mm = registry[name] = MultiMethod(name)\n",
    "        mm.register(types, function)\n",
    "        return mm\n",
    "    return register\n",
    "\n",
    "@overload(int, int)\n",
    "def area(length, breadth):\n",
    "    calc = length * breadth\n",
    "    print(calc)\n",
    "    \n",
    "@overload(int)\n",
    "def area(size):\n",
    "    calc =  size * size\n",
    "    print(calc)"
   ]
  },
  {
   "cell_type": "code",
   "execution_count": 6,
   "metadata": {},
   "outputs": [
    {
     "name": "stdout",
     "output_type": "stream",
     "text": [
      "9\n",
      "20\n"
     ]
    }
   ],
   "source": [
    "area(3) \n",
    "area(4,5) "
   ]
  },
  {
   "cell_type": "code",
   "execution_count": null,
   "metadata": {},
   "outputs": [],
   "source": []
  }
 ],
 "metadata": {
  "kernelspec": {
   "display_name": "Python 3",
   "language": "python",
   "name": "python3"
  },
  "language_info": {
   "codemirror_mode": {
    "name": "ipython",
    "version": 3
   },
   "file_extension": ".py",
   "mimetype": "text/x-python",
   "name": "python",
   "nbconvert_exporter": "python",
   "pygments_lexer": "ipython3",
   "version": "3.7.4"
  }
 },
 "nbformat": 4,
 "nbformat_minor": 2
}
